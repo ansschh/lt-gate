{
 "cells": [
  {
   "cell_type": "markdown",
   "metadata": {},
   "source": [
    "# LT-Gate Evaluation Summary\n",
    "\n",
    "This notebook provides a comprehensive analysis of the LT-Gate experiments, including:\n",
    "1. Final metrics for all algorithms\n",
    "2. Statistical significance tests\n",
    "3. Training curves and visualizations\n",
    "4. Ablation study results"
   ]
  },
  {
   "cell_type": "code",
   "execution_count": null,
   "metadata": {},
   "source": [
    "import sys\n",
    "import os\n",
    "import pandas as pd\n",
    "import numpy as np\n",
    "import matplotlib.pyplot as plt\n",
    "import seaborn as sns\n",
    "from pathlib import Path\n",
    "\n",
    "# Add project root to path\n",
    "project_root = Path.cwd().parent\n",
    "sys.path.append(str(project_root))\n",
    "\n",
    "from analysis.eval_metrics import load_energy, load_training_metrics\n",
    "from analysis.stats_tests import compare_algorithms\n",
    "from analysis.plotting import barplot_metrics, plot_training_curves, plot_ablation_curves"
   ]
  },
  {
   "cell_type": "markdown",
   "metadata": {},
   "source": [
    "## 1. Load Master Metrics\n",
    "\n",
    "First, let's load and display the aggregated metrics from all algorithms."
   ]
  },
  {
   "cell_type": "code",
   "execution_count": null,
   "metadata": {},
   "source": [
    "# Load master metrics CSV\n",
    "df = pd.read_csv(project_root / 'logs/master_metrics.csv')\n",
    "\n",
    "# Display metrics table\n",
    "print(\"Final Metrics Summary:\")\n",
    "print(\"-\" * 80)\n",
    "display(df.style.format({\n",
    "    'acc_task1': '{:.3f}',\n",
    "    'acc_task2': '{:.3f}',\n",
    "    'avg_accuracy': '{:.3f}',\n",
    "    'forgetting': '{:.3f}',\n",
    "    'energy_J': '{:.4f}',\n",
    "    'latency_ms': '{:.2f}',\n",
    "    'spikes_per_sample': '{:.1f}'\n",
    "}))"
   ]
  },
  {
   "cell_type": "markdown",
   "metadata": {},
   "source": [
    "## 2. Generate Metric Bar Plots\n",
    "\n",
    "Create Figure 2 from the paper showing key metrics across algorithms."
   ]
  },
  {
   "cell_type": "code",
   "execution_count": null,
   "metadata": {},
   "source": [
    "# Generate bar plots\n",
    "metrics = ['acc_task2', 'forgetting', 'energy_J']\n",
    "barplot_metrics(df, metrics=metrics)\n",
    "plt.show()"
   ]
  },
  {
   "cell_type": "markdown",
   "metadata": {},
   "source": [
    "## 3. Statistical Tests\n",
    "\n",
    "Run paired t-tests between algorithms to assess significance of differences."
   ]
  },
  {
   "cell_type": "code",
   "execution_count": null,
   "metadata": {},
   "source": [
    "# Compare LT-Gate vs baselines\n",
    "metrics = ['energy_J', 'forgetting', 'acc_task2']\n",
    "comparisons = [('ltgate', 'hlop'), ('ltgate', 'dsd')]\n",
    "\n",
    "for metric in metrics:\n",
    "    print(f\"\\nMetric: {metric}\")\n",
    "    print(\"-\" * 40)\n",
    "    \n",
    "    for algo1, algo2 in comparisons:\n",
    "        results = compare_algorithms(algo1, algo2, metric)\n",
    "        print(f\"\\n{algo1.upper()} vs {algo2.upper()}:\")\n",
    "        print(f\"Mean difference: {results['mean_difference']:.4f}\")\n",
    "        print(f\"p-value: {results['p_value']:.2e}\")\n",
    "        print(f\"Effect size (Cohen's d): {results['effect_size']:.3f}\")\n",
    "        print(f\"Significant: {results['significant']}\")"
   ]
  },
  {
   "cell_type": "markdown",
   "metadata": {},
   "source": [
    "## 4. Training Curves\n",
    "\n",
    "Plot accuracy and spike count evolution during training."
   ]
  },
  {
   "cell_type": "code",
   "execution_count": null,
   "metadata": {},
   "source": [
    "# Get training CSV paths\n",
    "csv_paths = {\n",
    "    algo: project_root / f'logs/{algo}_train.csv'\n",
    "    for algo in df['algorithm'].unique()\n",
    "}\n",
    "\n",
    "# Plot training curves\n",
    "plot_training_curves(csv_paths)\n",
    "plt.show()"
   ]
  },
  {
   "cell_type": "markdown",
   "metadata": {},
   "source": [
    "## 5. Ablation Study\n",
    "\n",
    "Analyze the effect of τ-ratio on forgetting and accuracy."
   ]
  },
  {
   "cell_type": "code",
   "execution_count": null,
   "metadata": {},
   "source": [
    "# Load ablation results\n",
    "ablation_df = pd.read_csv(project_root / 'logs/ltgate_ablate_tau.csv')\n",
    "\n",
    "# Plot ablation curves\n",
    "plot_ablation_curves(\n",
    "    ablation_df,\n",
    "    x='tau_ratio',\n",
    "    metrics=['forgetting', 'acc_task2']\n",
    ")\n",
    "plt.show()"
   ]
  }
 ],
 "metadata": {
  "kernelspec": {
   "display_name": "Python 3",
   "language": "python",
   "name": "python3"
  },
  "language_info": {
   "codemirror_mode": {
    "name": "ipython",
    "version": 3
   },
   "file_extension": ".py",
   "mimetype": "text/x-python",
   "name": "python",
   "nbconvert_exporter": "python",
   "pygments_lexer": "ipython3",
   "version": "3.11.0"
  }
 },
 "nbformat": 4,
 "nbformat_minor": 4
}
